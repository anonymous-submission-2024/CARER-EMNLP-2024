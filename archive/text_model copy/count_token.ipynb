{
 "cells": [
  {
   "cell_type": "code",
   "execution_count": 1,
   "metadata": {},
   "outputs": [],
   "source": [
    "import tiktoken\n",
    "\n",
    "encoding = tiktoken.encoding_for_model(\"gpt-3.5-turbo\")\n",
    "\n"
   ]
  },
  {
   "cell_type": "code",
   "execution_count": 9,
   "metadata": {},
   "outputs": [],
   "source": [
    "def num_tokens_from_string(string: str) -> int:\n",
    "    \"\"\"Returns the number of tokens in a text string.\"\"\"\n",
    "    encoding = tiktoken.encoding_for_model(\"gpt-4\")\n",
    "    num_tokens = len(encoding.encode(string))\n",
    "    return num_tokens\n",
    "\n"
   ]
  },
  {
   "cell_type": "code",
   "execution_count": 11,
   "metadata": {},
   "outputs": [
    {
     "data": {
      "text/plain": [
       "1053"
      ]
     },
     "execution_count": 11,
     "metadata": {},
     "output_type": "execute_result"
    }
   ],
   "source": [
    "num_tokens_from_string(\n",
    "\"You are given a list of hospital admissions information of a patient, sorted by admissions time. The information includes the patients demographic, diagnoses and lab values. Summarize the health status and progression of that patient visit by visit.  \\\n",
    "Think step by step, analyze the age and demographic of the patients and look through their diagnosed diseases. Then, take a look at some of the lab values and pay attention to abnormal or fluctuating values. From the combination of lab results and diseases, draw conclusions on some most significant conditions that the patients are facing. \\\n",
    "Afterwards, extract the information that might suggest future risk of diabetes and Heart Failure (if there are not any significant symptoms, you don't need to answer However, this patient should be closely monitored or something similar) \\\n",
    "Structure the answer following the format: \\\n",
    "Visit 1: (Reasoning on visit 1) \\\n",
    "Visit 2: (Reasoning on visit 2) \\\n",
    "Visit n: (Reasoning on visit n) \\\n",
    "Conclusion: Summarize the conclusions based on the inter-visit progression \\\n",
    "Diabetes risk assesment: Assess the diabetes risk of patient, and  extract the infmation that might suggest future risk of diabetes \\\n",
    "Heart Failure risk assesment: Assess the diabetes risk of patient, and  extract the infmation that might suggest future risk of diabetes \\\n",
    "Demographic: Patient is a white male. \\\n",
    "The following is this patients diagnosis and treatment history: \\\n",
    "- Visit 1, patient was 87 years old.  \\\n",
    "he was diagnosed with the following:  \\\n",
    " +subendocardial infarction, initial episode of care \\\n",
    " +cardiogenic shock \\\n",
    " +blood in stool \\\n",
    " +acute kidney failure, unspecified \\\n",
    " +hypertensive chronic kidney disease, unspecified, with chronic kidney disease stage v or end stage renal disease \\\n",
    " +congestive heart failure, unspecified \\\n",
    " +compression of vein \\\n",
    " +pneumonitis due to inhalation of food or vomitus \\\n",
    " +atrial fibrillation \\\n",
    " +paroxysmal ventricular tachycardia \\\n",
    " +coronary atherosclerosis of native coronary artery \\\n",
    " +diabetes mellitus without mention of complication, type ii or unspecified type, not stated as uncontrolled \\\n",
    " +anemia in chronic kidney disease \\\n",
    " +candidiasis of other urogenital sites \\\n",
    " +pure hypercholesterolemia \\\n",
    " +gout, unspecified \\\n",
    " +personal history of malignant neoplasm of prostate \\\n",
    " +other late effects of cerebrovascular disease \\\n",
    "he had the following blood test results: \\\n",
    " +Blood Sodium is 137.0 mEq/L, considered as normal \\\n",
    " +Blood Creatinine is 4.8 mg/dL, considered as abnormal \\\n",
    " +Blood Glucose is 148.0 mg/dL, considered as abnormal \\\n",
    " +Blood Potassium is 4.2 mEq/L, considered as normal \\\n",
    " +Blood Sodium is 136.0 mEq/L, considered as normal \\\n",
    " +Blood Creatinine is 3.5 mg/dL, considered as abnormal \\\n",
    " +Blood Glucose is 186.0 mg/dL, considered as abnormal \\\n",
    " +Blood Potassium is 3.8 mEq/L, considered as normal \\\n",
    " +Blood Sodium is 137.0 mEq/L, considered as normal \\n \\\n",
    "- Visit 2, patient was 87 years old.  \\\n",
    "he was diagnosed with the following:\\\n",
    " +other specified septicemias \\\n",
    " +septic shock \\\n",
    " +hypertensive chronic kidney disease, unspecified, with chronic kidney disease stage v or end stage renal disease \\\n",
    " +atrial fibrillation \\\n",
    " +pressure ulcer, other site \\\n",
    " +unspecified pleural effusion \\\n",
    " +cellulitis and abscess of upper arm and forearm \\\n",
    " +other postoperative infection \\\n",
    " +intestinal infection due to clostridium difficile \\\n",
    " +abscess of liver \\\n",
    " +severe sepsis \\\n",
    " +infection with microorganisms without mention of resistance to multiple drugs \\\n",
    " +diabetes mellitus without mention of complication, type ii or unspecified type, not stated as uncontrolled \\\n",
    " +anemia, unspecified \\\n",
    " +other late effects of cerebrovascular disease \\\n",
    " +gout, unspecified \\\n",
    " +coronary atherosclerosis of native coronary artery \\\n",
    " +malignant neoplasm of prostate \\\n",
    " +peripheral vascular disease, unspecified \\\n",
    " +unspecified acquired hypothyroidism \\\n",
    " +other specified surgical operations and procedures causing abnormal patient reaction, or later complication, without mention of misadventure at time of operation \\\n",
    "he had the following blood test results: \\\n",
    " +Blood Creatinine is 2.9 mg/dL, considered as abnormal \\\n",
    " +Blood Glucose is 248.0 mg/dL, considered as abnormal \\\n",
    " +Blood Potassium is 4.2 mEq/L, considered as normal \\\n",
    " +Blood Sodium is 134.0 mEq/L, considered as normal \\\n",
    " +Blood Creatinine is 2.0 mg/dL, considered as abnormal \\\n",
    " +Blood Potassium is 3.9 mEq/L, considered as normal \\\n",
    " +Blood Creatinine is 2.4 mg/dL, considered as abnormal \\\n",
    " +Blood Glucose is 197.0 mg/dL, considered as abnormal \\\n",
    " +Blood Potassium is 3.8 mEq/L, considered as normal  \\\n",
    "\"\n",
    ")"
   ]
  },
  {
   "cell_type": "code",
   "execution_count": 12,
   "metadata": {},
   "outputs": [
    {
     "name": "stdout",
     "output_type": "stream",
     "text": [
      "Sat Jan 13 19:25:50 2024       \n",
      "+---------------------------------------------------------------------------------------+\n",
      "| NVIDIA-SMI 535.86.10              Driver Version: 535.86.10    CUDA Version: 12.2     |\n",
      "|-----------------------------------------+----------------------+----------------------+\n",
      "| GPU  Name                 Persistence-M | Bus-Id        Disp.A | Volatile Uncorr. ECC |\n",
      "| Fan  Temp   Perf          Pwr:Usage/Cap |         Memory-Usage | GPU-Util  Compute M. |\n",
      "|                                         |                      |               MIG M. |\n",
      "|=========================================+======================+======================|\n",
      "|   0  NVIDIA RTX A5000               On  | 00000000:01:00.0 Off |                  Off |\n",
      "| 30%   36C    P8              22W / 230W |    243MiB / 24564MiB |      0%      Default |\n",
      "|                                         |                      |                  N/A |\n",
      "+-----------------------------------------+----------------------+----------------------+\n",
      "                                                                                         \n",
      "+---------------------------------------------------------------------------------------+\n",
      "| Processes:                                                                            |\n",
      "|  GPU   GI   CI        PID   Type   Process name                            GPU Memory |\n",
      "|        ID   ID                                                             Usage      |\n",
      "|=======================================================================================|\n",
      "|    0   N/A  N/A      1173      G   /usr/lib/xorg/Xorg                           39MiB |\n",
      "|    0   N/A  N/A      1692      G   /usr/lib/xorg/Xorg                          112MiB |\n",
      "|    0   N/A  N/A      1817      G   /usr/bin/gnome-shell                         42MiB |\n",
      "|    0   N/A  N/A      3792      G   /usr/lib/thunderbird/thunderbird             11MiB |\n",
      "|    0   N/A  N/A      4049      G   /usr/lib/firefox/firefox                     11MiB |\n",
      "+---------------------------------------------------------------------------------------+\n"
     ]
    }
   ],
   "source": [
    "! nvidia-smi"
   ]
  },
  {
   "cell_type": "code",
   "execution_count": null,
   "metadata": {},
   "outputs": [],
   "source": []
  }
 ],
 "metadata": {
  "kernelspec": {
   "display_name": "dungnt",
   "language": "python",
   "name": "python3"
  },
  "language_info": {
   "codemirror_mode": {
    "name": "ipython",
    "version": 3
   },
   "file_extension": ".py",
   "mimetype": "text/x-python",
   "name": "python",
   "nbconvert_exporter": "python",
   "pygments_lexer": "ipython3",
   "version": "3.9.12"
  }
 },
 "nbformat": 4,
 "nbformat_minor": 2
}
